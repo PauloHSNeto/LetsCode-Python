{
 "cells": [
  {
   "cell_type": "markdown",
   "metadata": {},
   "source": [
    "# Automação de Sistemas e Processos com Python\n",
    "\n",
    "### Desafio:\n",
    "\n",
    "Todos os dias, o nosso sistema atualiza as vendas do dia anterior.\n",
    "O seu trabalho diário, como analista, é enviar um e-mail para a diretoria, assim que começar a trabalhar, com o faturamento e a quantidade de produtos vendidos no dia anterior\n",
    "\n",
    "E-mail da diretoria: seugmail+diretoria@gmail.com<br>\n",
    "Local onde o sistema disponibiliza as vendas do dia anterior: https://drive.google.com/drive/folders/149xknr9JvrlEnhNWO49zPcw0PW5icxga?usp=sharing\n",
    "\n",
    "Para resolver isso, vamos usar o pyautogui, uma biblioteca de automação de comandos do mouse e do teclado"
   ]
  },
  {
   "cell_type": "code",
   "execution_count": 14,
   "metadata": {},
   "outputs": [
    {
     "name": "stdout",
     "output_type": "stream",
     "text": [
      "Collecting pyautogui==0.9.35\n",
      "  Downloading PyAutoGUI-0.9.35.zip (57 kB)\n",
      "Requirement already satisfied: pymsgbox in c:\\users\\neto.564\\anaconda3\\lib\\site-packages (from pyautogui==0.9.35) (1.0.9)\n",
      "Requirement already satisfied: PyTweening>=1.0.1 in c:\\users\\neto.564\\anaconda3\\lib\\site-packages (from pyautogui==0.9.35) (1.0.4)\n",
      "Requirement already satisfied: Pillow in c:\\users\\neto.564\\anaconda3\\lib\\site-packages (from pyautogui==0.9.35) (8.2.0)\n",
      "Requirement already satisfied: pyscreeze in c:\\users\\neto.564\\anaconda3\\lib\\site-packages (from pyautogui==0.9.35) (0.1.28)\n",
      "Building wheels for collected packages: pyautogui\n",
      "  Building wheel for pyautogui (setup.py): started\n",
      "  Building wheel for pyautogui (setup.py): finished with status 'done'\n",
      "  Created wheel for pyautogui: filename=PyAutoGUI-0.9.35-py3-none-any.whl size=26813 sha256=8a1d0b3bc4e9e44a0f8dc491c85084bd299cc6c955247dcfc856262d2a645b6e\n",
      "  Stored in directory: c:\\users\\neto.564\\appdata\\local\\pip\\cache\\wheels\\4e\\67\\0b\\36a601abe866aecb6a6d923d3206a79cae1208109cb21676ff\n",
      "Successfully built pyautogui\n",
      "Installing collected packages: pyautogui\n",
      "  Attempting uninstall: pyautogui\n",
      "    Found existing installation: PyAutoGUI 0.9.53\n",
      "    Uninstalling PyAutoGUI-0.9.53:\n",
      "      Successfully uninstalled PyAutoGUI-0.9.53\n",
      "Successfully installed pyautogui-0.9.35\n"
     ]
    },
    {
     "name": "stderr",
     "output_type": "stream",
     "text": [
      "ERROR: Could not find a version that satisfies the requirement pyautoclip\n",
      "ERROR: No matching distribution found for pyautoclip\n"
     ]
    }
   ],
   "source": [
    "!pip install pyautogui==0.9.35\n",
    "!pip install pyautoclip\n",
    "\n"
   ]
  },
  {
   "cell_type": "code",
   "execution_count": 5,
   "metadata": {},
   "outputs": [],
   "source": [
    "import pandas \n",
    "import pyautogui \n",
    "import pyperclip"
   ]
  },
  {
   "cell_type": "code",
   "execution_count": null,
   "metadata": {},
   "outputs": [],
   "source": [
    "pyautogui.hotkey(\"ctrl\",\"t\")"
   ]
  },
  {
   "cell_type": "markdown",
   "metadata": {},
   "source": [
    "### Vamos agora ler o arquivo baixado para pegar os indicadores\n",
    "\n",
    "- Faturamento\n",
    "- Quantidade de Produtos"
   ]
  },
  {
   "cell_type": "code",
   "execution_count": null,
   "metadata": {},
   "outputs": [],
   "source": []
  },
  {
   "cell_type": "markdown",
   "metadata": {},
   "source": [
    "### Vamos agora enviar um e-mail pelo gmail"
   ]
  },
  {
   "cell_type": "code",
   "execution_count": null,
   "metadata": {},
   "outputs": [],
   "source": []
  },
  {
   "cell_type": "markdown",
   "metadata": {},
   "source": [
    "#### Use esse código para descobrir qual a posição de um item que queira clicar\n",
    "\n",
    "- Lembre-se: a posição na sua tela é diferente da posição na minha tela"
   ]
  },
  {
   "cell_type": "code",
   "execution_count": null,
   "metadata": {},
   "outputs": [],
   "source": []
  }
 ],
 "metadata": {
  "kernelspec": {
   "display_name": "Python 3",
   "language": "python",
   "name": "python3"
  },
  "language_info": {
   "codemirror_mode": {
    "name": "ipython",
    "version": 3
   },
   "file_extension": ".py",
   "mimetype": "text/x-python",
   "name": "python",
   "nbconvert_exporter": "python",
   "pygments_lexer": "ipython3",
   "version": "3.8.8"
  }
 },
 "nbformat": 4,
 "nbformat_minor": 4
}
